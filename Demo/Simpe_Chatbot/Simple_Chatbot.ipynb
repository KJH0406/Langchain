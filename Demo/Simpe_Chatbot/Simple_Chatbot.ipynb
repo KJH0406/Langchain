{
 "cells": [
  {
   "cell_type": "code",
   "execution_count": 4,
   "id": "6f7db9ba-5c42-4d6c-bf64-e47f77ca16c8",
   "metadata": {},
   "outputs": [],
   "source": [
    "#!pip install langchain"
   ]
  },
  {
   "cell_type": "code",
   "execution_count": 2,
   "id": "b069c2a5-bbb7-4092-970e-c95b75cc6df8",
   "metadata": {},
   "outputs": [],
   "source": [
    "#!pip install streamlit"
   ]
  },
  {
   "cell_type": "code",
   "execution_count": 6,
   "id": "4968fc6a-28bc-4437-a894-76b3c5bed157",
   "metadata": {},
   "outputs": [],
   "source": [
    "#!pip install openai"
   ]
  },
  {
   "cell_type": "code",
   "execution_count": 7,
   "id": "6c00e454-bcda-4d81-a9c4-ac7fd997302f",
   "metadata": {},
   "outputs": [],
   "source": [
    "# 필요한 라이브러리 설치 후, streamlit 실행 시 오류 발생 방지를 위해 설치 코드 주석 처리"
   ]
  },
  {
   "cell_type": "code",
   "execution_count": 5,
   "id": "d0c8807f-ed8e-455c-b7a8-29300e4d5c2c",
   "metadata": {},
   "outputs": [
    {
     "name": "stderr",
     "output_type": "stream",
     "text": [
      "2024-05-15 20:10:33.677 \n",
      "  \u001b[33m\u001b[1mWarning:\u001b[0m to view this Streamlit app on a browser, run it with the following\n",
      "  command:\n",
      "\n",
      "    streamlit run /opt/anaconda3/envs/llm/lib/python3.8/site-packages/ipykernel_launcher.py [ARGUMENTS]\n",
      "/opt/anaconda3/envs/llm/lib/python3.8/site-packages/langchain_core/_api/deprecation.py:119: LangChainDeprecationWarning: The class `ChatOpenAI` was deprecated in LangChain 0.0.10 and will be removed in 0.3.0. An updated version of the class exists in the langchain-openai package and should be used instead. To use it run `pip install -U langchain-openai` and import as `from langchain_openai import ChatOpenAI`.\n",
      "  warn_deprecated(\n",
      "/opt/anaconda3/envs/llm/lib/python3.8/site-packages/langchain_core/_api/deprecation.py:119: LangChainDeprecationWarning: The method `BaseChatModel.predict` was deprecated in langchain-core 0.1.7 and will be removed in 0.3.0. Use invoke instead.\n",
      "  warn_deprecated(\n"
     ]
    }
   ],
   "source": [
    "import streamlit as st # 스트림릿\n",
    "from langchain.chat_models import ChatOpenAI\n",
    "st.set_page_config(page_title=\"🦜🔗 Ask anything! \")\n",
    "st.title('🦜🔗 Ask anything! ')\n",
    "\n",
    "import os\n",
    "os.environ[\"OPENAI_API_KEY\"] = \"sk-\"  #openai 키 입력\n",
    "\n",
    "def generate_response(input_text):  #llm이 답변 생성\n",
    "    llm = ChatOpenAI(temperature=0,  # 창의성 0으로 설정 \n",
    "                 model_name='gpt-4',  # 모델명\n",
    "                )\n",
    "    st.info(llm.predict(input_text))\n",
    "\n",
    "with st.form('Question'):\n",
    "    text = st.text_area('Enter your question:', 'What types of text models does OpenAI provide?') #첫 페이지가 실행될 때 보여줄 질문\n",
    "    submitted = st.form_submit_button('Send')\n",
    "    generate_response(text)"
   ]
  }
 ],
 "metadata": {
  "kernelspec": {
   "display_name": "llm",
   "language": "python",
   "name": "llm"
  },
  "language_info": {
   "codemirror_mode": {
    "name": "ipython",
    "version": 3
   },
   "file_extension": ".py",
   "mimetype": "text/x-python",
   "name": "python",
   "nbconvert_exporter": "python",
   "pygments_lexer": "ipython3",
   "version": "3.8.19"
  }
 },
 "nbformat": 4,
 "nbformat_minor": 5
}
