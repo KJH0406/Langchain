{
 "cells": [
  {
   "cell_type": "code",
   "execution_count": 18,
   "id": "a4cd8b92-1ba3-4878-a4e6-3766f7005a1e",
   "metadata": {},
   "outputs": [],
   "source": [
    "#!pip install streamlit"
   ]
  },
  {
   "cell_type": "code",
   "execution_count": 19,
   "id": "125b5356-4244-4b69-aa10-ac19ed024d93",
   "metadata": {},
   "outputs": [],
   "source": [
    "#!pip install langchain"
   ]
  },
  {
   "cell_type": "code",
   "execution_count": 20,
   "id": "a4221552-a020-4964-adf1-9ca33c92b040",
   "metadata": {},
   "outputs": [],
   "source": [
    "#!pip install openai"
   ]
  },
  {
   "cell_type": "code",
   "execution_count": 21,
   "id": "e7f539a7-a75f-4044-ba94-4a84ca5d5df4",
   "metadata": {},
   "outputs": [
    {
     "data": {
      "text/plain": [
       "DeltaGenerator()"
      ]
     },
     "execution_count": 21,
     "metadata": {},
     "output_type": "execute_result"
    }
   ],
   "source": [
    "import streamlit as st # 스트림릿\n",
    "import os\n",
    "os.environ[\"OPENAI_API_KEY\"] = \"sk\"\n",
    "\n",
    "# 스트림릿으로 페이지 레이아웃 설정\n",
    "# page_title = 페이지 탭 타이틀 설정\n",
    "# page_icon = favicon 설정 => 원래는 웹사이트에서 제공하는데, 일반 아이콘 넣어도 됨\n",
    "# https://docs.streamlit.io/develop/api-reference/configuration/st.set_page_config\n",
    "st.set_page_config(page_title=\"텍스트 생성기 데모\", page_icon=\":🤖:\")\n",
    "\n",
    "# 콘텐츠 부분 헤더\n",
    "st.header(\"텍스트 생성기\")"
   ]
  },
  {
   "cell_type": "code",
   "execution_count": 22,
   "id": "23c53c27-91c2-4df5-8212-3bb41d9b269c",
   "metadata": {},
   "outputs": [],
   "source": [
    "# 사용자 입력 받을 text_area 위젯 생성\n",
    "def getTextInfo():\n",
    "    # st(스트림릿이 제공하는).text_area(텍스트 입력 공간 위젯) 생성\n",
    "    # label: 위젯의 라벨을 지정(input 박스 위에 표시 됨.)\n",
    "    # label_visibility: 라벨의 가시성을 조정'collapsed'로 설정하면 라벨이 표시되지 않음. 기본 값은 visible\n",
    "    # key: 이 위젯을 식별하기 위한 고유 키. 같은 페이지 내에서 여러 개의 st.text_area를 사용할 때 이 키를 사용하여 각각의 위젯을 구분\n",
    "    input_text = st.text_area(label=\"정보 입력\", label_visibility='collapsed', placeholder=\"정보를 입력해주세요\", key=\"input_text\")\n",
    "    return input_text\n",
    "\n",
    "input_text = getTextInfo() # 사용자가 입력한 텍스트는 input_text 변수에 저장"
   ]
  },
  {
   "cell_type": "code",
   "execution_count": 11,
   "id": "b595748f-f83a-4fa2-a9f2-4c485f3d54c6",
   "metadata": {},
   "outputs": [],
   "source": [
    "# 텍스트 변환 작업을 위한 템플릿 정의\n",
    "\n",
    "# query_template는 이메일을 생성하기 위한 기본 구조를 제공\n",
    "# 모델은 주어진 입력값을 기반으로 텍스트를 생성\n",
    "# 사용자가 입력한 내용이 중괄호 안에 입력됨. = 사용자로부터 입력받은 텍스트가 삽입될 자리\n",
    "# \"메일을 작성해주세요\"를 통해서 GPT 모델에게 이메일을 작성해달라고 지시\n",
    "query_template = \"\"\"\n",
    "    메일을 작성해주세요. \n",
    "    아래는 이메일입니다:\n",
    "    이메일 내용: {email}\n",
    "\"\"\""
   ]
  },
  {
   "cell_type": "code",
   "execution_count": 15,
   "id": "901555ba-2b3b-47cc-ac0e-4b910d32b0f6",
   "metadata": {},
   "outputs": [],
   "source": [
    "from langchain import PromptTemplate\n",
    "\n",
    "# 프롬프트템플릿 인스턴스 생성\n",
    "prompt = PromptTemplate(\n",
    "    input_variables=[\"email\"],\n",
    "    template=query_template,\n",
    ")"
   ]
  },
  {
   "cell_type": "code",
   "execution_count": 16,
   "id": "0cfa4312-bf84-4339-a9f6-c1556158d16e",
   "metadata": {},
   "outputs": [],
   "source": [
    "from langchain.llms import OpenAI\n",
    "\n",
    "#언어 모델 호출\n",
    "def loadLanguageModel():\n",
    "    llm = OpenAI(model_name='gpt-4', temperature=.7)\n",
    "    return llm"
   ]
  },
  {
   "cell_type": "code",
   "execution_count": 17,
   "id": "4f3c10d5-1975-4c39-b9a5-ba40025ec8a6",
   "metadata": {},
   "outputs": [],
   "source": [
    "st.button(\"*예시 메시지 생성*\", type='secondary', help=\"Bot이 작성한 텍스트를 확인해보세요.\")\n",
    "st.markdown(\"### 봇이 작성한 메일은:\")\n",
    "\n",
    "if input_text:\n",
    "    llm = loadLanguageModel()\n",
    "    #프롬프트템플릿 및 언어 모델을 사용하여 텍스트 형식 지정\n",
    "    prompt_with_email = prompt.format(email=input_text)\n",
    "    formatted_email = llm(prompt_with_email)\n",
    "    st.write(formatted_email)"
   ]
  },
  {
   "cell_type": "code",
   "execution_count": null,
   "id": "09e1efe6-eb4d-4ef9-ae92-e20dee062232",
   "metadata": {},
   "outputs": [],
   "source": []
  }
 ],
 "metadata": {
  "kernelspec": {
   "display_name": "llm",
   "language": "python",
   "name": "llm"
  },
  "language_info": {
   "codemirror_mode": {
    "name": "ipython",
    "version": 3
   },
   "file_extension": ".py",
   "mimetype": "text/x-python",
   "name": "python",
   "nbconvert_exporter": "python",
   "pygments_lexer": "ipython3",
   "version": "3.8.19"
  }
 },
 "nbformat": 4,
 "nbformat_minor": 5
}
