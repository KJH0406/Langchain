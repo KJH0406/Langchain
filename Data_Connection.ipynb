{
 "cells": [
  {
   "cell_type": "code",
   "execution_count": 1,
   "id": "a624a7cc-2442-443e-bc65-96d95c27eae5",
   "metadata": {},
   "outputs": [
    {
     "name": "stdout",
     "output_type": "stream",
     "text": [
      "Requirement already satisfied: langchain in /opt/anaconda3/envs/llm/lib/python3.8/site-packages (0.1.20)\n",
      "Requirement already satisfied: PyYAML>=5.3 in /opt/anaconda3/envs/llm/lib/python3.8/site-packages (from langchain) (6.0.1)\n",
      "Requirement already satisfied: SQLAlchemy<3,>=1.4 in /opt/anaconda3/envs/llm/lib/python3.8/site-packages (from langchain) (2.0.30)\n",
      "Requirement already satisfied: aiohttp<4.0.0,>=3.8.3 in /opt/anaconda3/envs/llm/lib/python3.8/site-packages (from langchain) (3.9.5)\n",
      "Requirement already satisfied: async-timeout<5.0.0,>=4.0.0 in /opt/anaconda3/envs/llm/lib/python3.8/site-packages (from langchain) (4.0.3)\n",
      "Requirement already satisfied: dataclasses-json<0.7,>=0.5.7 in /opt/anaconda3/envs/llm/lib/python3.8/site-packages (from langchain) (0.6.6)\n",
      "Requirement already satisfied: langchain-community<0.1,>=0.0.38 in /opt/anaconda3/envs/llm/lib/python3.8/site-packages (from langchain) (0.0.38)\n",
      "Requirement already satisfied: langchain-core<0.2.0,>=0.1.52 in /opt/anaconda3/envs/llm/lib/python3.8/site-packages (from langchain) (0.1.52)\n",
      "Requirement already satisfied: langchain-text-splitters<0.1,>=0.0.1 in /opt/anaconda3/envs/llm/lib/python3.8/site-packages (from langchain) (0.0.1)\n",
      "Requirement already satisfied: langsmith<0.2.0,>=0.1.17 in /opt/anaconda3/envs/llm/lib/python3.8/site-packages (from langchain) (0.1.57)\n",
      "Requirement already satisfied: numpy<2,>=1 in /opt/anaconda3/envs/llm/lib/python3.8/site-packages (from langchain) (1.24.4)\n",
      "Requirement already satisfied: pydantic<3,>=1 in /opt/anaconda3/envs/llm/lib/python3.8/site-packages (from langchain) (2.7.1)\n",
      "Requirement already satisfied: requests<3,>=2 in /opt/anaconda3/envs/llm/lib/python3.8/site-packages (from langchain) (2.31.0)\n",
      "Requirement already satisfied: tenacity<9.0.0,>=8.1.0 in /opt/anaconda3/envs/llm/lib/python3.8/site-packages (from langchain) (8.3.0)\n",
      "Requirement already satisfied: aiosignal>=1.1.2 in /opt/anaconda3/envs/llm/lib/python3.8/site-packages (from aiohttp<4.0.0,>=3.8.3->langchain) (1.3.1)\n",
      "Requirement already satisfied: attrs>=17.3.0 in /opt/anaconda3/envs/llm/lib/python3.8/site-packages (from aiohttp<4.0.0,>=3.8.3->langchain) (23.2.0)\n",
      "Requirement already satisfied: frozenlist>=1.1.1 in /opt/anaconda3/envs/llm/lib/python3.8/site-packages (from aiohttp<4.0.0,>=3.8.3->langchain) (1.4.1)\n",
      "Requirement already satisfied: multidict<7.0,>=4.5 in /opt/anaconda3/envs/llm/lib/python3.8/site-packages (from aiohttp<4.0.0,>=3.8.3->langchain) (6.0.5)\n",
      "Requirement already satisfied: yarl<2.0,>=1.0 in /opt/anaconda3/envs/llm/lib/python3.8/site-packages (from aiohttp<4.0.0,>=3.8.3->langchain) (1.9.4)\n",
      "Requirement already satisfied: marshmallow<4.0.0,>=3.18.0 in /opt/anaconda3/envs/llm/lib/python3.8/site-packages (from dataclasses-json<0.7,>=0.5.7->langchain) (3.21.2)\n",
      "Requirement already satisfied: typing-inspect<1,>=0.4.0 in /opt/anaconda3/envs/llm/lib/python3.8/site-packages (from dataclasses-json<0.7,>=0.5.7->langchain) (0.9.0)\n",
      "Requirement already satisfied: jsonpatch<2.0,>=1.33 in /opt/anaconda3/envs/llm/lib/python3.8/site-packages (from langchain-core<0.2.0,>=0.1.52->langchain) (1.33)\n",
      "Requirement already satisfied: packaging<24.0,>=23.2 in /opt/anaconda3/envs/llm/lib/python3.8/site-packages (from langchain-core<0.2.0,>=0.1.52->langchain) (23.2)\n",
      "Requirement already satisfied: orjson<4.0.0,>=3.9.14 in /opt/anaconda3/envs/llm/lib/python3.8/site-packages (from langsmith<0.2.0,>=0.1.17->langchain) (3.10.3)\n",
      "Requirement already satisfied: annotated-types>=0.4.0 in /opt/anaconda3/envs/llm/lib/python3.8/site-packages (from pydantic<3,>=1->langchain) (0.6.0)\n",
      "Requirement already satisfied: pydantic-core==2.18.2 in /opt/anaconda3/envs/llm/lib/python3.8/site-packages (from pydantic<3,>=1->langchain) (2.18.2)\n",
      "Requirement already satisfied: typing-extensions>=4.6.1 in /opt/anaconda3/envs/llm/lib/python3.8/site-packages (from pydantic<3,>=1->langchain) (4.11.0)\n",
      "Requirement already satisfied: charset-normalizer<4,>=2 in /opt/anaconda3/envs/llm/lib/python3.8/site-packages (from requests<3,>=2->langchain) (3.3.2)\n",
      "Requirement already satisfied: idna<4,>=2.5 in /opt/anaconda3/envs/llm/lib/python3.8/site-packages (from requests<3,>=2->langchain) (3.7)\n",
      "Requirement already satisfied: urllib3<3,>=1.21.1 in /opt/anaconda3/envs/llm/lib/python3.8/site-packages (from requests<3,>=2->langchain) (2.2.1)\n",
      "Requirement already satisfied: certifi>=2017.4.17 in /opt/anaconda3/envs/llm/lib/python3.8/site-packages (from requests<3,>=2->langchain) (2024.2.2)\n",
      "Requirement already satisfied: jsonpointer>=1.9 in /opt/anaconda3/envs/llm/lib/python3.8/site-packages (from jsonpatch<2.0,>=1.33->langchain-core<0.2.0,>=0.1.52->langchain) (2.4)\n",
      "Requirement already satisfied: mypy-extensions>=0.3.0 in /opt/anaconda3/envs/llm/lib/python3.8/site-packages (from typing-inspect<1,>=0.4.0->dataclasses-json<0.7,>=0.5.7->langchain) (1.0.0)\n"
     ]
    }
   ],
   "source": [
    "!pip install langchain"
   ]
  },
  {
   "cell_type": "code",
   "execution_count": 2,
   "id": "707fe445-6566-4aa4-bd94-ab0704ffaed1",
   "metadata": {},
   "outputs": [
    {
     "name": "stdout",
     "output_type": "stream",
     "text": [
      "Requirement already satisfied: openai in /opt/anaconda3/envs/llm/lib/python3.8/site-packages (1.30.1)\n",
      "Requirement already satisfied: anyio<5,>=3.5.0 in /opt/anaconda3/envs/llm/lib/python3.8/site-packages (from openai) (4.3.0)\n",
      "Requirement already satisfied: distro<2,>=1.7.0 in /opt/anaconda3/envs/llm/lib/python3.8/site-packages (from openai) (1.9.0)\n",
      "Requirement already satisfied: httpx<1,>=0.23.0 in /opt/anaconda3/envs/llm/lib/python3.8/site-packages (from openai) (0.27.0)\n",
      "Requirement already satisfied: pydantic<3,>=1.9.0 in /opt/anaconda3/envs/llm/lib/python3.8/site-packages (from openai) (2.7.1)\n",
      "Requirement already satisfied: sniffio in /opt/anaconda3/envs/llm/lib/python3.8/site-packages (from openai) (1.3.1)\n",
      "Requirement already satisfied: tqdm>4 in /opt/anaconda3/envs/llm/lib/python3.8/site-packages (from openai) (4.66.4)\n",
      "Requirement already satisfied: typing-extensions<5,>=4.7 in /opt/anaconda3/envs/llm/lib/python3.8/site-packages (from openai) (4.11.0)\n",
      "Requirement already satisfied: idna>=2.8 in /opt/anaconda3/envs/llm/lib/python3.8/site-packages (from anyio<5,>=3.5.0->openai) (3.7)\n",
      "Requirement already satisfied: exceptiongroup>=1.0.2 in /opt/anaconda3/envs/llm/lib/python3.8/site-packages (from anyio<5,>=3.5.0->openai) (1.2.1)\n",
      "Requirement already satisfied: certifi in /opt/anaconda3/envs/llm/lib/python3.8/site-packages (from httpx<1,>=0.23.0->openai) (2024.2.2)\n",
      "Requirement already satisfied: httpcore==1.* in /opt/anaconda3/envs/llm/lib/python3.8/site-packages (from httpx<1,>=0.23.0->openai) (1.0.5)\n",
      "Requirement already satisfied: h11<0.15,>=0.13 in /opt/anaconda3/envs/llm/lib/python3.8/site-packages (from httpcore==1.*->httpx<1,>=0.23.0->openai) (0.14.0)\n",
      "Requirement already satisfied: annotated-types>=0.4.0 in /opt/anaconda3/envs/llm/lib/python3.8/site-packages (from pydantic<3,>=1.9.0->openai) (0.6.0)\n",
      "Requirement already satisfied: pydantic-core==2.18.2 in /opt/anaconda3/envs/llm/lib/python3.8/site-packages (from pydantic<3,>=1.9.0->openai) (2.18.2)\n"
     ]
    }
   ],
   "source": [
    "!pip install openai"
   ]
  },
  {
   "cell_type": "code",
   "execution_count": 3,
   "id": "babdf562-667b-4e78-82f4-c8a94571b47c",
   "metadata": {},
   "outputs": [
    {
     "name": "stdout",
     "output_type": "stream",
     "text": [
      "Collecting pypdf\n",
      "  Downloading pypdf-4.2.0-py3-none-any.whl.metadata (7.4 kB)\n",
      "Requirement already satisfied: typing_extensions>=4.0 in /opt/anaconda3/envs/llm/lib/python3.8/site-packages (from pypdf) (4.11.0)\n",
      "Downloading pypdf-4.2.0-py3-none-any.whl (290 kB)\n",
      "\u001b[2K   \u001b[90m━━━━━━━━━━━━━━━━━━━━━━━━━━━━━━━━━━━━━━━━\u001b[0m \u001b[32m290.4/290.4 kB\u001b[0m \u001b[31m3.6 MB/s\u001b[0m eta \u001b[36m0:00:00\u001b[0m00:01\u001b[0m00:01\u001b[0m\n",
      "\u001b[?25hInstalling collected packages: pypdf\n",
      "Successfully installed pypdf-4.2.0\n"
     ]
    }
   ],
   "source": [
    "!pip install pypdf"
   ]
  },
  {
   "cell_type": "code",
   "execution_count": 4,
   "id": "b2fdce10-5d4d-4148-9640-a3a3e330bbab",
   "metadata": {},
   "outputs": [
    {
     "name": "stdout",
     "output_type": "stream",
     "text": [
      "Collecting tiktoken\n",
      "  Downloading tiktoken-0.7.0-cp38-cp38-macosx_11_0_arm64.whl.metadata (6.6 kB)\n",
      "Collecting regex>=2022.1.18 (from tiktoken)\n",
      "  Downloading regex-2024.5.10-cp38-cp38-macosx_11_0_arm64.whl.metadata (40 kB)\n",
      "\u001b[2K     \u001b[90m━━━━━━━━━━━━━━━━━━━━━━━━━━━━━━━━━━━━━━━\u001b[0m \u001b[32m40.9/40.9 kB\u001b[0m \u001b[31m260.2 kB/s\u001b[0m eta \u001b[36m0:00:00\u001b[0ma \u001b[36m0:00:01\u001b[0m\n",
      "\u001b[?25hRequirement already satisfied: requests>=2.26.0 in /opt/anaconda3/envs/llm/lib/python3.8/site-packages (from tiktoken) (2.31.0)\n",
      "Requirement already satisfied: charset-normalizer<4,>=2 in /opt/anaconda3/envs/llm/lib/python3.8/site-packages (from requests>=2.26.0->tiktoken) (3.3.2)\n",
      "Requirement already satisfied: idna<4,>=2.5 in /opt/anaconda3/envs/llm/lib/python3.8/site-packages (from requests>=2.26.0->tiktoken) (3.7)\n",
      "Requirement already satisfied: urllib3<3,>=1.21.1 in /opt/anaconda3/envs/llm/lib/python3.8/site-packages (from requests>=2.26.0->tiktoken) (2.2.1)\n",
      "Requirement already satisfied: certifi>=2017.4.17 in /opt/anaconda3/envs/llm/lib/python3.8/site-packages (from requests>=2.26.0->tiktoken) (2024.2.2)\n",
      "Downloading tiktoken-0.7.0-cp38-cp38-macosx_11_0_arm64.whl (906 kB)\n",
      "\u001b[2K   \u001b[90m━━━━━━━━━━━━━━━━━━━━━━━━━━━━━━━━━━━━━━━━\u001b[0m \u001b[32m906.8/906.8 kB\u001b[0m \u001b[31m6.1 MB/s\u001b[0m eta \u001b[36m0:00:00\u001b[0ma \u001b[36m0:00:01\u001b[0m\n",
      "\u001b[?25hDownloading regex-2024.5.10-cp38-cp38-macosx_11_0_arm64.whl (278 kB)\n",
      "\u001b[2K   \u001b[90m━━━━━━━━━━━━━━━━━━━━━━━━━━━━━━━━━━━━━━━━\u001b[0m \u001b[32m278.3/278.3 kB\u001b[0m \u001b[31m4.4 MB/s\u001b[0m eta \u001b[36m0:00:00\u001b[0ma \u001b[36m0:00:01\u001b[0m\n",
      "\u001b[?25hInstalling collected packages: regex, tiktoken\n",
      "Successfully installed regex-2024.5.10 tiktoken-0.7.0\n"
     ]
    }
   ],
   "source": [
    "!pip install tiktoken"
   ]
  },
  {
   "cell_type": "code",
   "execution_count": 5,
   "id": "d91e3721-4c12-45d9-8447-68201a44d777",
   "metadata": {},
   "outputs": [
    {
     "name": "stdout",
     "output_type": "stream",
     "text": [
      "Collecting faiss-cpu\n",
      "  Downloading faiss_cpu-1.8.0-cp38-cp38-macosx_11_0_arm64.whl.metadata (3.6 kB)\n",
      "Requirement already satisfied: numpy in /opt/anaconda3/envs/llm/lib/python3.8/site-packages (from faiss-cpu) (1.24.4)\n",
      "Downloading faiss_cpu-1.8.0-cp38-cp38-macosx_11_0_arm64.whl (3.1 MB)\n",
      "\u001b[2K   \u001b[90m━━━━━━━━━━━━━━━━━━━━━━━━━━━━━━━━━━━━━━━━\u001b[0m \u001b[32m3.1/3.1 MB\u001b[0m \u001b[31m5.3 MB/s\u001b[0m eta \u001b[36m0:00:00\u001b[0m00:01\u001b[0m00:01\u001b[0m\n",
      "\u001b[?25hInstalling collected packages: faiss-cpu\n",
      "Successfully installed faiss-cpu-1.8.0\n"
     ]
    }
   ],
   "source": [
    "!pip install faiss-cpu"
   ]
  },
  {
   "cell_type": "code",
   "execution_count": 7,
   "id": "1da878e5-8ecd-4212-8718-3551ff5c2ff0",
   "metadata": {},
   "outputs": [
    {
     "name": "stdout",
     "output_type": "stream",
     "text": [
      "Collecting sentence-transformers\n",
      "  Downloading sentence_transformers-2.7.0-py3-none-any.whl.metadata (11 kB)\n",
      "Collecting transformers<5.0.0,>=4.34.0 (from sentence-transformers)\n",
      "  Downloading transformers-4.40.2-py3-none-any.whl.metadata (137 kB)\n",
      "\u001b[2K     \u001b[90m━━━━━━━━━━━━━━━━━━━━━━━━━━━━━━━━━━━━━━━\u001b[0m \u001b[32m138.0/138.0 kB\u001b[0m \u001b[31m4.3 MB/s\u001b[0m eta \u001b[36m0:00:00\u001b[0m\n",
      "\u001b[?25hRequirement already satisfied: tqdm in /opt/anaconda3/envs/llm/lib/python3.8/site-packages (from sentence-transformers) (4.66.4)\n",
      "Collecting torch>=1.11.0 (from sentence-transformers)\n",
      "  Downloading torch-2.3.0-cp38-none-macosx_11_0_arm64.whl.metadata (26 kB)\n",
      "Requirement already satisfied: numpy in /opt/anaconda3/envs/llm/lib/python3.8/site-packages (from sentence-transformers) (1.24.4)\n",
      "Collecting scikit-learn (from sentence-transformers)\n",
      "  Downloading scikit_learn-1.3.2-cp38-cp38-macosx_12_0_arm64.whl.metadata (11 kB)\n",
      "Collecting scipy (from sentence-transformers)\n",
      "  Downloading scipy-1.10.1-cp38-cp38-macosx_12_0_arm64.whl.metadata (53 kB)\n",
      "\u001b[2K     \u001b[90m━━━━━━━━━━━━━━━━━━━━━━━━━━━━━━━━━━━━━━━━\u001b[0m \u001b[32m53.9/53.9 kB\u001b[0m \u001b[31m5.4 MB/s\u001b[0m eta \u001b[36m0:00:00\u001b[0m\n",
      "\u001b[?25hRequirement already satisfied: huggingface-hub>=0.15.1 in /opt/anaconda3/envs/llm/lib/python3.8/site-packages (from sentence-transformers) (0.19.4)\n",
      "Requirement already satisfied: Pillow in /opt/anaconda3/envs/llm/lib/python3.8/site-packages (from sentence-transformers) (10.3.0)\n",
      "Requirement already satisfied: filelock in /opt/anaconda3/envs/llm/lib/python3.8/site-packages (from huggingface-hub>=0.15.1->sentence-transformers) (3.14.0)\n",
      "Requirement already satisfied: fsspec>=2023.5.0 in /opt/anaconda3/envs/llm/lib/python3.8/site-packages (from huggingface-hub>=0.15.1->sentence-transformers) (2024.3.1)\n",
      "Requirement already satisfied: requests in /opt/anaconda3/envs/llm/lib/python3.8/site-packages (from huggingface-hub>=0.15.1->sentence-transformers) (2.31.0)\n",
      "Requirement already satisfied: pyyaml>=5.1 in /opt/anaconda3/envs/llm/lib/python3.8/site-packages (from huggingface-hub>=0.15.1->sentence-transformers) (6.0.1)\n",
      "Requirement already satisfied: typing-extensions>=3.7.4.3 in /opt/anaconda3/envs/llm/lib/python3.8/site-packages (from huggingface-hub>=0.15.1->sentence-transformers) (4.11.0)\n",
      "Requirement already satisfied: packaging>=20.9 in /opt/anaconda3/envs/llm/lib/python3.8/site-packages (from huggingface-hub>=0.15.1->sentence-transformers) (23.2)\n",
      "Collecting sympy (from torch>=1.11.0->sentence-transformers)\n",
      "  Downloading sympy-1.12-py3-none-any.whl.metadata (12 kB)\n",
      "Collecting networkx (from torch>=1.11.0->sentence-transformers)\n",
      "  Downloading networkx-3.1-py3-none-any.whl.metadata (5.3 kB)\n",
      "Requirement already satisfied: jinja2 in /opt/anaconda3/envs/llm/lib/python3.8/site-packages (from torch>=1.11.0->sentence-transformers) (3.1.4)\n",
      "Requirement already satisfied: regex!=2019.12.17 in /opt/anaconda3/envs/llm/lib/python3.8/site-packages (from transformers<5.0.0,>=4.34.0->sentence-transformers) (2024.5.10)\n",
      "Collecting tokenizers<0.20,>=0.19 (from transformers<5.0.0,>=4.34.0->sentence-transformers)\n",
      "  Downloading tokenizers-0.19.1-cp38-cp38-macosx_11_0_arm64.whl.metadata (6.7 kB)\n",
      "Collecting safetensors>=0.4.1 (from transformers<5.0.0,>=4.34.0->sentence-transformers)\n",
      "  Downloading safetensors-0.4.3-cp38-cp38-macosx_11_0_arm64.whl.metadata (3.8 kB)\n",
      "Collecting joblib>=1.1.1 (from scikit-learn->sentence-transformers)\n",
      "  Downloading joblib-1.4.2-py3-none-any.whl.metadata (5.4 kB)\n",
      "Collecting threadpoolctl>=2.0.0 (from scikit-learn->sentence-transformers)\n",
      "  Downloading threadpoolctl-3.5.0-py3-none-any.whl.metadata (13 kB)\n",
      "Requirement already satisfied: MarkupSafe>=2.0 in /opt/anaconda3/envs/llm/lib/python3.8/site-packages (from jinja2->torch>=1.11.0->sentence-transformers) (2.1.5)\n",
      "Requirement already satisfied: charset-normalizer<4,>=2 in /opt/anaconda3/envs/llm/lib/python3.8/site-packages (from requests->huggingface-hub>=0.15.1->sentence-transformers) (3.3.2)\n",
      "Requirement already satisfied: idna<4,>=2.5 in /opt/anaconda3/envs/llm/lib/python3.8/site-packages (from requests->huggingface-hub>=0.15.1->sentence-transformers) (3.7)\n",
      "Requirement already satisfied: urllib3<3,>=1.21.1 in /opt/anaconda3/envs/llm/lib/python3.8/site-packages (from requests->huggingface-hub>=0.15.1->sentence-transformers) (2.2.1)\n",
      "Requirement already satisfied: certifi>=2017.4.17 in /opt/anaconda3/envs/llm/lib/python3.8/site-packages (from requests->huggingface-hub>=0.15.1->sentence-transformers) (2024.2.2)\n",
      "Collecting mpmath>=0.19 (from sympy->torch>=1.11.0->sentence-transformers)\n",
      "  Downloading mpmath-1.3.0-py3-none-any.whl.metadata (8.6 kB)\n",
      "Downloading sentence_transformers-2.7.0-py3-none-any.whl (171 kB)\n",
      "\u001b[2K   \u001b[90m━━━━━━━━━━━━━━━━━━━━━━━━━━━━━━━━━━━━━━━━\u001b[0m \u001b[32m171.5/171.5 kB\u001b[0m \u001b[31m8.2 MB/s\u001b[0m eta \u001b[36m0:00:00\u001b[0m\n",
      "\u001b[?25hDownloading torch-2.3.0-cp38-none-macosx_11_0_arm64.whl (61.0 MB)\n",
      "\u001b[2K   \u001b[90m━━━━━━━━━━━━━━━━━━━━━━━━━━━━━━━━━━━━━━━━\u001b[0m \u001b[32m61.0/61.0 MB\u001b[0m \u001b[31m9.4 MB/s\u001b[0m eta \u001b[36m0:00:00\u001b[0m:00:01\u001b[0m00:01\u001b[0m\n",
      "\u001b[?25hDownloading transformers-4.40.2-py3-none-any.whl (9.0 MB)\n",
      "\u001b[2K   \u001b[90m━━━━━━━━━━━━━━━━━━━━━━━━━━━━━━━━━━━━━━━━\u001b[0m \u001b[32m9.0/9.0 MB\u001b[0m \u001b[31m10.1 MB/s\u001b[0m eta \u001b[36m0:00:00\u001b[0m00:01\u001b[0m00:01\u001b[0m\n",
      "\u001b[?25hDownloading scikit_learn-1.3.2-cp38-cp38-macosx_12_0_arm64.whl (9.4 MB)\n",
      "\u001b[2K   \u001b[90m━━━━━━━━━━━━━━━━━━━━━━━━━━━━━━━━━━━━━━━━\u001b[0m \u001b[32m9.4/9.4 MB\u001b[0m \u001b[31m10.2 MB/s\u001b[0m eta \u001b[36m0:00:00\u001b[0m00:01\u001b[0m00:01\u001b[0m\n",
      "\u001b[?25hDownloading scipy-1.10.1-cp38-cp38-macosx_12_0_arm64.whl (28.8 MB)\n",
      "\u001b[2K   \u001b[90m━━━━━━━━━━━━━━━━━━━━━━━━━━━━━━━━━━━━━━━━\u001b[0m \u001b[32m28.8/28.8 MB\u001b[0m \u001b[31m7.0 MB/s\u001b[0m eta \u001b[36m0:00:00\u001b[0m00:01\u001b[0m00:01\u001b[0m\n",
      "\u001b[?25hDownloading joblib-1.4.2-py3-none-any.whl (301 kB)\n",
      "\u001b[2K   \u001b[90m━━━━━━━━━━━━━━━━━━━━━━━━━━━━━━━━━━━━━━━━\u001b[0m \u001b[32m301.8/301.8 kB\u001b[0m \u001b[31m4.8 MB/s\u001b[0m eta \u001b[36m0:00:00\u001b[0ma \u001b[36m0:00:01\u001b[0m\n",
      "\u001b[?25hDownloading safetensors-0.4.3-cp38-cp38-macosx_11_0_arm64.whl (411 kB)\n",
      "\u001b[2K   \u001b[90m━━━━━━━━━━━━━━━━━━━━━━━━━━━━━━━━━━━━━━━━\u001b[0m \u001b[32m411.5/411.5 kB\u001b[0m \u001b[31m4.6 MB/s\u001b[0m eta \u001b[36m0:00:00\u001b[0m00:01\u001b[0m00:01\u001b[0m\n",
      "\u001b[?25hDownloading threadpoolctl-3.5.0-py3-none-any.whl (18 kB)\n",
      "Downloading tokenizers-0.19.1-cp38-cp38-macosx_11_0_arm64.whl (2.4 MB)\n",
      "\u001b[2K   \u001b[90m━━━━━━━━━━━━━━━━━━━━━━━━━━━━━━━━━━━━━━━━\u001b[0m \u001b[32m2.4/2.4 MB\u001b[0m \u001b[31m9.1 MB/s\u001b[0m eta \u001b[36m0:00:00\u001b[0ma \u001b[36m0:00:01\u001b[0m\n",
      "\u001b[?25hDownloading networkx-3.1-py3-none-any.whl (2.1 MB)\n",
      "\u001b[2K   \u001b[90m━━━━━━━━━━━━━━━━━━━━━━━━━━━━━━━━━━━━━━━━\u001b[0m \u001b[32m2.1/2.1 MB\u001b[0m \u001b[31m8.7 MB/s\u001b[0m eta \u001b[36m0:00:00\u001b[0ma \u001b[36m0:00:01\u001b[0m\n",
      "\u001b[?25hDownloading sympy-1.12-py3-none-any.whl (5.7 MB)\n",
      "\u001b[2K   \u001b[90m━━━━━━━━━━━━━━━━━━━━━━━━━━━━━━━━━━━━━━━━\u001b[0m \u001b[32m5.7/5.7 MB\u001b[0m \u001b[31m10.6 MB/s\u001b[0m eta \u001b[36m0:00:00\u001b[0m00:01\u001b[0m00:01\u001b[0m\n",
      "\u001b[?25hDownloading mpmath-1.3.0-py3-none-any.whl (536 kB)\n",
      "\u001b[2K   \u001b[90m━━━━━━━━━━━━━━━━━━━━━━━━━━━━━━━━━━━━━━━━\u001b[0m \u001b[32m536.2/536.2 kB\u001b[0m \u001b[31m10.1 MB/s\u001b[0m eta \u001b[36m0:00:00\u001b[0ma \u001b[36m0:00:01\u001b[0m\n",
      "\u001b[?25hInstalling collected packages: mpmath, threadpoolctl, sympy, scipy, safetensors, networkx, joblib, torch, scikit-learn, tokenizers, transformers, sentence-transformers\n",
      "Successfully installed joblib-1.4.2 mpmath-1.3.0 networkx-3.1 safetensors-0.4.3 scikit-learn-1.3.2 scipy-1.10.1 sentence-transformers-2.7.0 sympy-1.12 threadpoolctl-3.5.0 tokenizers-0.19.1 torch-2.3.0 transformers-4.40.2\n"
     ]
    }
   ],
   "source": [
    "!pip install sentence-transformers"
   ]
  },
  {
   "cell_type": "code",
   "execution_count": 8,
   "id": "5193ee73-4aae-4df2-8e14-9acf03109012",
   "metadata": {},
   "outputs": [],
   "source": [
    "# pypdf : PDF파일을 파이썬에서 읽고 수정할때 사용\n",
    "# tiktoken : 임베딩을 위한 라이브러리\n",
    "# faiss-cpu : 벡터 유사도 검색 * 만약 gpu지원이 가능한 상태라면 cpu가 아닌 gpu로 바꿔서 설치\n",
    "# sentence-transformers : 자연어 처리에서 문장 또는 단락을 벡터로 변환하기 위해 사용"
   ]
  },
  {
   "cell_type": "code",
   "execution_count": 10,
   "id": "260e7912-5c73-4d4d-8374-8487d75c58d7",
   "metadata": {},
   "outputs": [
    {
     "data": {
      "text/plain": [
       "'Chapter 1    The Fence \\n \\nTom Sawyer lived with his aunt because his mother and \\nfather were dead. Tom didn’t like going to school, and he didn’t like working. He liked playing and having adventures. One Friday, he didn’t go to school—he went to the river. \\nAunt Polly was angry. “You’re a bad boy!” she said. \\n“Tomorrow you can’t play with your friends because you didn’t go to school today. Tomorrow you’re going to work for me. You can paint the fence.” \\nSaturday morning, Tom was not happy, but he started to \\npaint the fence. His friend Jim was in the street. \\nTom asked him, “Do you want to paint?” \\nJim said, “No, I can’t. I’m going to get water.” \\nThen Ben came to Tom’s house. He watched Tom and \\nsaid, “I’m going to swim today. You can’t swim because you’re working.” \\nTom said, “This isn’t work. I like painting.” \\n“Can I paint, too?” Ben asked. \\n“No, you can’t,” Tom answered. “Aunt Polly asked me \\nbecause I’m a very good painter.” \\nBen said, “I’m a good painter, too. Please, can I paint? I \\nhave some fruit. Do you want it?” \\nOK,” Tom said. “Give me the fruit. Then you can paint.” \\nBen started to paint the fence. Later, many boys came to \\nTom’s house. They watched Ben, and they wanted to paint, too. \\nTom said, “Give me some food and you can paint.” \\n \\n1 '"
      ]
     },
     "execution_count": 10,
     "metadata": {},
     "output_type": "execute_result"
    }
   ],
   "source": [
    "from langchain.document_loaders import PyPDFLoader\n",
    "\n",
    "loader = PyPDFLoader(\"/Users/kimjangho/Desktop/Langchain_study/Data/The_Adventures_of_Tom_Sawyer.pdf\")\n",
    "document = loader.load()\n",
    "document[5].page_content[:5000]\n",
    "# document[5] = 문서에서 6페이지 위치에서 *인덱스는 0부터 시작\n",
    "# page_content[:5000] = 해당 페이지 콘텐츠 중 5000글자 읽어옴"
   ]
  },
  {
   "cell_type": "code",
   "execution_count": 11,
   "id": "60ae4cba-ef25-43a5-95af-ca0afd6c7aa5",
   "metadata": {},
   "outputs": [],
   "source": [
    "# PyPDFLoader를 사용하여 데이터를 가져왔음."
   ]
  },
  {
   "cell_type": "code",
   "execution_count": 12,
   "id": "d3daa64d-2613-4fd2-a4f9-9b601a044d31",
   "metadata": {},
   "outputs": [
    {
     "name": "stderr",
     "output_type": "stream",
     "text": [
      "/opt/anaconda3/envs/llm/lib/python3.8/site-packages/langchain_core/_api/deprecation.py:119: LangChainDeprecationWarning: The class `OpenAIEmbeddings` was deprecated in LangChain 0.0.9 and will be removed in 0.3.0. An updated version of the class exists in the langchain-openai package and should be used instead. To use it run `pip install -U langchain-openai` and import as `from langchain_openai import OpenAIEmbeddings`.\n",
      "  warn_deprecated(\n"
     ]
    }
   ],
   "source": [
    "import os\n",
    "os.environ[\"OPENAI_API_KEY\"] = \"sk-\" #openai 키 입력\n",
    "\n",
    "from langchain.vectorstores import FAISS\n",
    "from langchain.embeddings import OpenAIEmbeddings\n",
    "\n",
    "embeddings = OpenAIEmbeddings() #임베딩 처리\n",
    "db = FAISS.from_documents(document, embeddings)"
   ]
  },
  {
   "cell_type": "code",
   "execution_count": 13,
   "id": "2a7857c4-db47-424e-baa2-4d3f85d329fa",
   "metadata": {},
   "outputs": [
    {
     "name": "stdout",
     "output_type": "stream",
     "text": [
      "[-0.0028776592017171997, -0.020231964329207958, -0.012722282835556176, -0.016508676325958264, -0.02256690740071774, 0.02867562174761203, -0.027994072428082245, 0.00646211215299935, -0.011946072025668749, 0.009863555559381471, -0.015536835618798397, 0.014438782074688569, 0.006645121232238086, -0.03332026718588678, 0.0005442940817075984, 0.027994072428082245, 0.02227661601308766, -0.005026437873064499, 0.02414457158788259, -0.0270348511419722, -0.00031099704614278217, 0.003906296151165842, 0.014186355469466063, -0.020989243213552892, -0.0051337187844719655, 0.01832614676597321, 0.024308648275917537, -0.02047176871941288, -0.004149256327955809, -0.018666921425738104, 0.0013181383426945537, -0.001207701877532692, -0.03546588913932645, -0.005032748514911997, 0.0013205048333873655, -0.017707702002273232, 0.011087822871763846, 0.007257254888429272, 0.009592197959939057, 0.003144284518265931, -0.000705610271387898, 0.003191614332122166, 0.0055155135475681814, -0.007673758181686728, 0.015549456902493392, 0.004796098979969529, -0.012261605049366235, -0.020964000646162897, -0.019121289501403134, 0.014678586464893494, 0.009535402183311574, 0.012564516789368726, -0.011516947448716296, -0.01144121974654632, -0.019209638487268105, 0.004303867518880803, -0.0021298465129741587, -0.013012573291863672, 0.0032089688300334317, -0.02706009370936219, 0.0014467180195832958, 0.011081512229916348, -0.014830042800556033, -6.353795552667808e-06, -0.016256250652058345, -0.014135870334686077, -0.011359181402528847, 0.0013481140078854927, -0.008487832842659145, -0.0022923460062085257, 0.02948338576673695, 0.02915523239066705, -0.013896065013158567, -0.007143662869513015, 0.017985370243563146, -0.016155280382498374, -0.00675871278549305, -0.0012282114635370604, -0.012703350910013683, 0.004076683946709582, 0.01758148916532327, -0.023362050136147665, -0.0028934360391665915, -0.009705789513194021, 0.003776927760461486, -0.001365468272966112, -0.04417459351532544, 0.029660085601112066, 0.0027482908110128437, -0.0037737724395377373, 0.006828130311476821, 0.02117856246897783, 0.0029691637413365676, 0.04336683135884569, -0.0031458621787278053, 0.004190275965625839, -0.002702538657618483, 0.01171888891915882, -0.021531960275082893, -0.013504804287291103, -0.012880049813066214, -0.015738776157918334, -0.014438782074688569, -0.003360424467204031, -0.012917913664151202, -0.007673758181686728, 0.0005722976713211942, -0.024674665503072422, 0.0244348611128675, -0.026959123439802224, -0.0022813021501447575, 0.02610087428589732, 0.014123249050991082, -0.03352220772500671, 0.010532485457861434, -0.013795094743598598, 0.023967873616152647, -0.013012573291863672, 0.013340727599256155, -0.0006314600550568114, 0.012312090184146219, 0.01252034229643624, 0.018490223454008158, -0.0012518764868805013, 0.008879093568526609, 0.008115504042334175, -0.005405077315236966, -0.021140698617892844, 0.0012637089403445601, -0.013100922277728645, 0.05391824687960445, 0.014085385199906094, 0.03445618271843642, 0.0005304895526661965, -0.01626887193575334, -0.017265955210303198, 0.015789261292698316, 0.0023254768759078904, 0.013340727599256155, -0.020875651660297926, -0.003000717183404704, 0.0035371229045952687, -0.008254338162979132, -0.024573695233512455, 0.028044557562862227, 0.022996031046347606, 0.0534133955318046, 0.0025826359968547275, 0.005307261900939454, 0.01496887692120099, 0.007465506535058001, -0.0007628005795461721, 0.045537695879675356, -0.009844623633838976, 0.019247502338353095, 0.0007718721272019505, -0.02198632648810275, 0.020698953688567983, 0.011744131486548811, -0.0024974423319135044, 0.006575703706254314, 0.01499411948859098, 0.0284484386411021, -0.012974709440778684, 0.012368885960773702, 0.03349696515761672, 0.0035308122627477705, 0.018124204364208103, -0.0012944734357664362, -0.0011840368541892509, -0.005900463631588147, 0.01778342970444321, -0.0033667351090515287, 0.03170473914763694, -0.03503676549369658, 0.008620356321456604, 0.011744131486548811, -0.0021282688525122843, -0.011289764342206368, 0.019335851324218067, -0.015738776157918334, 0.004562604300289515, 0.013441697868816124, 0.012917913664151202, -0.014956255637505992, -0.007030071316258051, -0.0006665630585411807, -0.018275661631193228, -0.0021582444012878997, 0.013530046854681095, 0.011119376081001336, 0.013176649979898621, -0.012065975152093797, -0.003729597946605251, -0.6260171017832958, 0.0035623654719852604, 0.021229047603757815, -0.006458956832075601, 0.01982808138832291, 0.001094110091447081, -0.005313572542786952, 0.011201415356341397, -0.01187665496534627, 0.02761543205458719, 0.0023207438945222667, -0.002035186652431042, 0.0045815366914933025, -0.0007793660726035161, -0.012406750743181276, -0.027287278678517293, 0.0023696513688403766, -0.008973753196239078, -0.00565750345479818, -0.01761935301640826, -0.002891858378704717, -0.004938088421538233, -0.014400917292280994, 0.0024785101735403637, 0.01789702125769817, 0.018919347099638023, 0.011939761383821251, 0.006720848934408062, -0.0027766886993265847, 0.05866386072479399, -0.044527989458785326, 0.03675326380150639, -0.0035812973975277544, -0.0015413777637110892, 0.032108620225876815, -0.014060142632516101, -0.024346512127002527, 0.017758187137053218, -0.006992206999511769, 0.04626973405927547, -0.01722809135921821, -0.018957210950723013, 0.020913515511382916, -0.0011106755262967633, -0.00869608402362658, 0.0013212936636183027, 0.004666730356434526, -0.0057710950080531445, 0.016950423117928298, 0.0077621071675517, -0.03657656582977645, 0.0051999809895319875, 0.024624180368292437, 0.008027155056469204, -0.03119988407454675, 0.019853323955712904, 0.01580188257639331, -0.008708705307321575, -0.006115025920064372, 0.010993163244051375, 0.03546588913932645, -0.003972558356225865, -0.004846584114749512, 6.764234509798118e-05, -0.041221205680115676, 0.02786785772848711, -0.016647512309248394, -0.00040112110375417897, -0.008853851001136616, -0.028095042697642212, 0.022869818209397645, -0.01907080436662315, -0.003959937072530869, 0.007919874145061737, 0.01960089828181298, 0.027287278678517293, 0.0450580870992655, 0.01057665995079392, -0.008670841456236587, 0.0017732944336832578, -0.021027107064637878, -0.008879093568526609, -0.023021273613737597, 0.014047521348821106, -0.008456279633421654, -0.010810154630473932, -0.02071157497226298, -0.019234881054658096, 0.005155806030938208, -0.016218386800973355, 0.025091169727652466, 0.03549113170671644, -0.001152483644951761, -0.01758148916532327, -0.01614265909880338, 0.034607638122776375, 0.0030259597507946963, -0.003609695518672142, 0.0005139240596088526, -0.0055533773986531695, 0.016950423117928298, -0.0029407658530228266, 0.008203853028199148, -0.0034329970812809044, 0.01131500690959636, 0.026504757226782368, -0.046320219194055455, -0.001089376993646134, 0.013290242464476172, -0.019613519565507977, 0.011706267635463823, -0.01079122270493144, 0.009712100155041519, 0.011176172788951404, -0.007181526720598003, -0.011662093142531338, 0.00428178027241456, 0.02587369117938739, 0.009712100155041519, -0.009062102182104051, 0.01826304034749823, 0.003966247714378366, 0.03188143711936688, 0.012211119914586252, 0.015284409944898476, 0.01131500690959636, -0.04281149115097552, -0.030139694381521913, -0.021052349632027872, -0.013883443729463572, -0.02948338576673695, -0.010620834443726405, 0.01469120774858849, -0.01289267109676121, 0.0069101686554942955, 0.012823254036438731, 0.021948462637017763, -0.0035844527184515037, 0.022705741521362698, -0.009295596861784064, -0.004947554384309481, 0.0075854087301604626, -0.008980063838086576, -0.0008203853028199147, -0.00391260679301334, -0.011662093142531338, -0.02395525233245765, -0.004313333481652051, -0.013315485031866163, 0.002693072694847236, -0.004385906328559571, -0.024447482396562494, -0.0028808145226409485, -0.0022907683457466512, 0.02541932310372236, 0.014981498204895985, -0.010778601421236442, -0.006247549864523124, 0.012122770928721278, -0.007673758181686728, 0.026176601988067295, 0.0010688674076417656, -0.028524166343272078, -0.01571353359052834, 0.006695606367018069, -0.03334550975327677, 0.00047882105612448325, 0.01883099811377305, -0.007181526720598003, -0.021140698617892844, -0.01475431416706347, -0.007522302311685483, -0.009245111727004079, 0.014918391786421004, 0.01496887692120099, -0.015347516363373457, 0.008752880731576648, -0.01896983223441801, -0.019777596253542928, 0.0025999904947659937, 0.018906725815943028, 0.009623751169176548, -0.0017654061313738853, -0.012356264677078706, 0.011163551505256409, 0.014249461887941042, 0.009623751169176548, 0.03455715298799639, -0.007036381958105549, 0.006411627018219366, -0.020976621929857896, 0.02327370115028269, -0.0032042358486478084, 0.01354266813837609, 0.00324683268111842, -0.03566782967844639, 0.01905818122028298, 0.03660180839716644, 0.030265907218471874, 0.03150279488322666, -0.009257733010699076, -0.004041975416548342, 0.00311588662995219, -0.007023760674410553, 0.014577616195333525, -0.010134914090146472, -0.009194626592224095, -0.016029067545548413, 0.007446574609515507, -0.005651192812950682, -0.00791356350321424, -0.02918047495805704, 0.009876176843076467, -0.01932323004052307, 0.015789261292698316, 0.02164555182833786, -0.027110578844142176, 0.010765980137541447, -0.015196060027710918, 0.011359181402528847, 0.030619305024576937, 0.00952909061014149, -0.006645121232238086, -0.0198659452394079, 0.003720131983834004, 0.03334550975327677, -0.0023870058667516425, 0.032638714141066644, 0.003814791844377121, 0.007680068823534226, -0.02211253932505271, -0.023803795065472526, -0.007534923595380478, 0.02506592716026247, 0.0044521680679583, -0.02298340976265261, 0.019613519565507977, -0.022339724294207813, -0.004587847333340801, 0.019891189669443064, 0.012021800659161311, 0.01790964254139317, -0.020648466691142824, -0.033749390831516644, 0.029634843033722075, 0.040236745551905984, 0.009383945847649035, 0.009895108768618962, -0.04089305230404578, 0.011453841030241317, -0.0235639906752676, -0.01761935301640826, 0.019007696085502995, -0.0017243868429498248, -0.0050169719102932525, -0.03486006379667629, -0.003767461797690239, -0.0013323372868514242, 0.019474685444863023, 0.011870344323498773, 0.001005760872751462, 0.011245589849273882, 0.00379585968600398, 0.010986852602203877, 0.029912511275011985, 0.0075854087301604626, -0.005168427314633205, -0.02173390081420283, -0.0036885785417658675, -0.01580188257639331, -0.03579404251539634, -0.02281933307461766, 0.019398957742693047, -0.01980283882093292, 0.027716402324147158, 0.022263994729392663, 0.007225701679191783, -0.0012424105241092543, 0.019563034430727995, 0.017821293555528195, -0.012438303952418767, -0.039555192507085855, -0.0007955370923377297, 0.02973581330328204, 0.01527178866120348, -0.0029975618624809553, -0.030467849620236985, 0.010784912063083942, -0.013176649979898621, 0.0565939664735243, -0.003628627444214636, 0.006720848934408062, -0.0036002293230702484, -0.013731988325123618, -0.028928049284157122, -0.018578572439873133, 0.020042645073783016, -0.018174689498988084, 0.026984366007192215, -0.018692163993128095, -0.01020433115046895, -0.0017843380569163793, -0.006219151976209383, -0.014009657497736118, 0.010513553532318939, 0.01580188257639331, 0.0019894344990366813, -0.01758148916532327, 0.02198632648810275, -0.009257733010699076, -0.03130085434410672, -0.002782999341174083, -0.023349428852452666, -0.03733384285147621, -0.021683415679422845, -0.00408299458855708, -0.02198632648810275, -0.022339724294207813, 0.01597858241076843, 0.014804799301843453, -0.007269876172124269, -0.01790964254139317, -0.018313525482278215, 0.010040254462434003, 0.051267773578364935, -0.01703877210379327, -0.006458956832075601, -0.01187665496534627, 0.0054744943755594445, 0.008399483856794173, -0.006550461138864322, -0.029458143199346955, -0.010475689681233951, -0.007099488376580529, -0.0046572643936632786, -0.011491704881326305, 0.0017212315220260757, -0.0020462302756641634, 0.02708533627675218, 0.009276664936241569, -0.0037611511558427414, -0.035516374274106435, 0.005228378877845729, 0.0005099799084541663, 0.00025932852049723805, -0.010551417383403927, 0.021897977502237778, 0.02175914338159282, -0.006440024906533107, 0.008008223130926709, 6.655770534943189e-06, 0.014211598036856054, 0.02423292057374756, -0.032764926978016605, -0.007484438460600495, -0.005477649696483193, -0.007257254888429272, -0.020623224123752833, -0.004906535212300744, 0.023450399122012636, -0.020585360272667844, 0.019727111118762942, 0.015498971767713409, 0.0018032700988741966, 0.029357172929786988, 0.04162509048364589, 0.009522779968293992, -0.010248505643401436, 0.011605297365903856, 0.0016833675545257643, 0.00495070970523323, 0.01938633645899805, -0.0035844527184515037, 0.011068890946221351, 0.026580484928952344, -0.009958216118416527, -0.030013481544571955, -0.010873261048948913, 0.014880527935336016, -0.002511641276070375, -0.009320839429174055, -0.007957737996146725, 0.004843428793825763, -0.0031190419508759387, -0.0006346153759805604, -0.027943585430657086, -0.023134867029637737, -0.00663249994854309, -0.006954343148426781, -0.014880527935336016, -0.023993116183542638, -0.01082277591416893, -0.025482429522197342, -0.007370846441684237, -0.03362317799456668, -0.01932323004052307, -0.021380503008097768, -0.03175522428241692, -0.014552373627943533, 0.01951254929594801, 0.02983678357284201, 0.0036633359743758753, -0.004300712197957054, -0.005458717770940699, -0.011498015523173803, -0.01826304034749823, 0.003609695518672142, -0.023993116183542638, -0.02867562174761203, 0.0014672276055876642, 0.0022371276572122714, 0.009566955392549065, -0.014047521348821106, 0.001915284224497933, 0.024699908070462417, -0.0007781828272571101, 0.019348472607913062, -0.0032168571323428043, -0.0013741454055064219, -0.02625232969023727, -0.0007261199155999282, 0.005162116672785706, -0.014464024642078561, -0.004291246235185808, 0.02708533627675218, -0.02953387090151693, -0.0004417459479589399, 0.0013425920798536084, -0.0023680737083785017, -0.003903140830242093, 0.01666013359294339, 0.0064179376600668634, -0.0016991442755598329, 0.010469379039386453, 0.026984366007192215, -0.02416981415527258, 0.013492183003596107, -0.023967873616152647, 0.013088300994033648, 0.010374719411673984, -0.00663249994854309, 0.009194626592224095, -0.00035536883394449506, -0.015006740772285978, -0.008557249902981623, -0.004625711184425789, 0.033673663129346665, 0.025116412295042457, -0.005105320896158224, 0.011270832416663875, -0.007604340655702957, -0.006802887744086829, 0.0027056939785422324, 0.005726920515120659, -0.00010343560413825146, 0.006695606367018069, -0.007200458646140497, -0.012053353868398802, 0.0023933165085991406, -0.010772290779388944, -0.029054262121107084, 0.027918342863267095, -0.015536835618798397, -0.020118372775952992, -0.007370846441684237, -0.03266395670845664, -0.008828608433746624, -0.015435865349238428, -0.028019314995472236, -0.027312521245907283, -0.012507721012741245, 0.02414457158788259, -0.003163216443808425, 0.006828130311476821, -0.020459147435717886, -0.01023588435970644, -0.014299947022721027, -0.018578572439873133, 0.008658220172541592, -0.03743481312103617, -0.004745613379528251, 0.020623224123752833, 0.03650083440231612, 0.010961610034813885, 0.0023822726525353725, -0.005575464645119412, 0.01654654017704325, 0.008916957419611597, 0.001694411177758886, 0.008519386051896635, -0.012905292380456205, 0.021998947771797745, -0.028650379180222035, 0.01948730672855802, -0.005666969417569427, -0.0021282688525122843, 0.027236793543737307, 0.023046516181127588, -0.01131500690959636, 0.020231964329207958, 0.0075664768046179685, -0.012381508175791284, -0.02998823897718196, -0.009295596861784064, 0.008216474311894144, -0.00622861793898063, 0.010248505643401436, -0.02034555588246292, -0.006935411222884287, -0.024813501486362553, 0.01980283882093292, -0.013820337310988591, 0.01982808138832291, 0.009604819243634053, 0.019361093891608058, -0.03811636244056596, 0.0036349380860621343, 0.008468900917116651, -0.003805325881605874, -0.01649605504226327, 0.01697566568531829, 0.027918342863267095, 0.01082277591416893, 0.007692690107229222, 0.008550939261134125, 0.03079600299630688, -0.004994884663827009, 0.02244069456376778, -0.008285891372216622, 0.021620309260947865, -0.011933450741973751, -0.03329502461849679, 0.017303819061388188, -0.008860161642984114, -0.037030932042796304, -0.029584356036296916, -0.005127408142624467, -0.031326096911496716, 0.024220299290052566, 0.0022387053176741462, -0.02449796753134248, 0.018086340513123113, 0.009724721438736515, -0.006746091501798054, 0.002514796596994124, 0.04187751615754581, 0.03667753609933641, -0.004783477696274532, 0.03586977021756632, 0.042230912101005706, -0.004701438886595765, -0.03160376515278662, 0.010488310964928948, -0.004609934579807044, -0.009819381066448985, 0.0013047282287686204, 0.021721279530507835, -0.00850045412635414, -0.017190227508133222, 0.026757182900682287, -0.0015571544847451575, -0.02179700723267781, -0.021027107064637878, 0.024624180368292437, -0.00649366536223684, 0.011352870760681349, 0.009592197959939057, -0.008986374479934073, -0.0037453745512239962, 0.019474685444863023, -0.0051147868589294715, 0.005382990068770723, -0.04351828676318564, -0.025570780370707487, -0.018490223454008158, -0.03135133947888671, -0.00797035927984172, 0.026959123439802224, -0.004493187239967037, 0.005408232636160715, -0.0026520532900078525, 0.0004141368316684745, -0.01345431915251112, 0.006316966924845602, -0.022263994729392663, 0.025230003848297423, -0.017152363657048236, -0.011535879374258791, 0.0042376057794820746, -0.011946072025668749, -0.006449490869304354, 0.0016100062266332768, -0.020206721761817963, 0.03518822089803653, -0.009844623633838976, 0.007642204972449238, -0.02857465147805206, 0.016432948623788288, 0.012406750743181276, 0.00759171937200796, 0.010425204546453968, 0.0055533773986531695, -0.0032294784160378006, -0.009876176843076467, 0.020547496421582857, 0.007004828748868059, -0.01633197835422832, -0.006651431874085584, -0.019007696085502995, 0.005531290152186927, -0.0335726928597867, -0.00920724787591909, 0.017695080718578237, 0.04061538406275587, -0.016470812474873274, -0.006357986096854339, -0.02950862833412694, -0.008702394665474077, 0.006651431874085584, -0.035945497919736294, -0.004073528625785833, 0.03268919927584663, -0.05194932289789472, 0.009440741624276518, -0.024737771921547403, 0.008203853028199148, 0.007882009362654162, -0.011214036640036392, 0.022895060776787636, -0.023021273613737597, 0.01672324001141837, -0.02207467547396772, -0.021506717707692902, -0.01838925318444819, -0.006086628031750632, 0.010829086556016427, -0.012760146686641164, -0.01790964254139317, 0.005341970431100693, 0.012514031654588743, 0.01635722092161831, -0.00542400924077946, -0.012760146686641164, 0.009377635205801538, 0.00014307441783029855, -0.0005245733259341672, 0.02971057073589205, -0.026580484928952344, -0.03008920924674193, 0.005802648682951928, 0.00675871278549305, -0.009226179801461586, 0.0018253573453404397, -0.036172681026246226, -0.01070287278774388, -0.008027155056469204, -0.018237795917463065, -0.015637805888358364, 0.001177726212341753, -0.01597858241076843, -0.025520293373282328, 0.006670363799628078, -0.010216952434163946, -0.015233924810118493, 0.0019862791781129325, 0.03990859217583609, -0.011946072025668749, 0.018212553350073074, -0.0005707200108593197, -0.027413491515467254, 0.01101209516959387, -0.04084256716926579, -0.02940765806456697, -0.015360137647068452, -0.01838925318444819, 0.06876091003253289, 0.000996294909980215, -0.015208681311405913, -0.01790964254139317, 0.015448486632933424, -0.03238628846716673, 0.009131520173749115, 0.02761543205458719, 0.0017117655592548287, -0.0043543526536607875, 0.006796577102239331, 0.001972080001125415, 0.018692163993128095, -0.016672754876638385, 0.036197923593636216, -0.0034109098348146616, -0.018755270411603076, -0.0067902659947305394, -0.022099918041357716, -0.030896973265866847, 0.01224898376567124, 0.010797533346778937, -0.01654654017704325, 0.004382751007635822, -0.007749485883856704, 0.007831524227874179, 0.027211550976347317, 0.0037548405139952432, -0.006537839855169326, 0.005364057677566936, -0.009428120340581521, -0.008942199987001588, 0.012034421942856307, 0.01469120774858849, -0.0037800830813852354, -0.02327370115028269, 0.017669838151188243, -0.0004701438944803427, -0.0025542381085409864, -0.004395372291330818, 0.013782473459903603, -0.023765931214387536, 0.023740688646997545, 0.0002155483553687281, -0.012974709440778684, 0.0089043361359166, -0.0015090357242426619, 0.011031027095136363, -0.0031316632345709345, -0.0005415331758993181, 0.02806980013025222, -0.022137781892442702, -0.020231964329207958, -0.003941004681327081, 0.011516947448716296, 0.0004239972095551901, 0.01999215993900303, 0.004748768700452, -0.005146340068166961, 0.015675669739443353, 0.005304106580015705, 0.023841658916557512, -0.019411579026388043, -0.017707702002273232, 0.018780512978993066, 0.014451403358383566, -0.036248408728416205, 0.03905034115928601, -0.005701677947730666, -0.012053353868398802, 0.0010097050239061484, -0.020219343045512962, 9.313148014280278e-05, 0.0004997251154519821, -0.024422239829172503, 0.000818018812127103, 0.013176649979898621, -0.013580531989461079, 0.04980370094445505, -0.014274704455331034, -0.019676625983982957, 0.006443180227456856, 0.005711143910501914, 0.0006077950899210322, 0.02140574557548776, 0.2520223590658133, -0.002855571955250957, -0.005575464645119412, 0.01456499491163853, 0.004893913928605748, 0.027564946919807206, 0.027792130026317134, -0.00465410907273953, -0.007919874145061737, -0.002197686145665409, -0.006083472710826883, 0.012999952008168676, -0.003858966337309607, 0.00276091209470784, -0.0034266864394334067, -0.03405230164019655, -0.010021322536891508, 0.01499411948859098, 0.011207725998188894, -0.028877564149377137, 0.003997800923615857, 0.008557249902981623, -0.014249461887941042, -0.0011753597216489413, -0.0008582492703202261, 0.006550461138864322, -0.005707988589578165, -0.002593679852918496, -0.01057665995079392, -0.0032941624949746552, -0.022996031046347606, -0.001684945214987639, 0.016281493219448336, 0.0033194052951952937, -0.0004082205758326143, -0.007806281660484186, 0.02867562174761203, 0.01469120774858849, 0.03178046684980692, 0.03645034926753614, 0.009346081996564047, -0.009137830815596614, -8.855871898390185e-06, 0.016407706056398297, -0.006884926088104303, 0.03458239555538638, -0.003896830188394595, 0.00017452909604849854, -0.019234881054658096, 0.03324453575842645, -0.031225126641936746, -0.017152363657048236, 0.011258211132968878, 0.03733384285147621, 0.0049538650261569785, -0.0012842185263489286, 0.007200458646140497, -0.009011617047324066, -0.021935841353322768, 0.01208490707763629, 0.015991203694463427, 0.023008652330042602, -0.005966725370986876, 0.02993775384240198, -0.015864990857513465, -0.008298512655911618, -0.040489171225805906, 0.024258163141137556, 0.003043314015875316, -0.004650953751815781, -0.003865276979157105, 0.019209638487268105, 0.0077621071675517, -0.00759171937200796, -0.03301735265191653, -0.019840702672017905, 0.04220566953361571, 0.004385906328559571, 0.025898933746777385, 0.023791173781777527, -0.027211550976347317, -8.258085397614392e-05, 0.012160634779806266, 0.018086340513123113, -0.006847062237019315, -0.011403355895461332, -0.00749705974429549, -0.008203853028199148, -0.026605727496342334, -0.007049003241800545, 0.013580531989461079, 0.0004736936305195603, 0.005345125752024442, -0.01311354356142364, -0.0002922622699503608, 0.013164028696203624, 0.000436618522354017, 0.013997036214041123, 0.004004111565463354, -0.004815030905512023, -0.002134579494359782, -0.009415499056886526, 0.009434430982429019, 0.015057225907065961, -0.0018190467034929416, 0.033774633398906635, -0.0015626762963617184, -0.017543625314238285, -0.0022402829781360207, -0.022869818209397645, -0.016344599637923316, -0.027716402324147158, -0.0027656450760934633, 0.013820337310988591, 0.009895108768618962, -0.007982980563536718, 0.02083778780921294, -0.032032892523706835, -0.0011043648844492652, -0.0010933212612161437, -0.017240712642913207, -0.018275661631193228, -0.012198498630891254, 0.019739732402457938, 0.015965961127073436, -0.014842664084251028, -0.011763063412091306, 0.02254166483332775, 0.005420853919855711, -0.042735763448805544, 0.005739541798815654, -0.026454272092002382, 0.027438734082857245, 0.006294879678379359, 0.005550222077729421, 0.03077076042891689, -0.00120533538683988, -0.005405077315236966, 0.011352870760681349, 0.014060142632516101, -0.0041997419283970865, -0.01917177463618312, 0.014413539507298578, 0.005496581622025687, 0.01722809135921821, -0.04472993372319561, 0.01282956467828623, 0.003972558356225865, -0.013365970166646148, -0.015347516363373457, -0.03526394860020651, 0.011542190016106289, 0.0022529042618310165, 0.012949466873388693, 0.02668145519851231, -0.018490223454008158, -0.025507672089587333, -0.037788209064496064, 0.006499976004084338, 0.009074723465799047, -0.036955204340626324, 0.005821580608494422, 0.024068843885712614, -0.025646508072877463, -0.01951254929594801, -0.010381030053521482, -0.1569081565240638, 0.004527895770128276, 0.03905034115928601, -0.025949418881557367, -0.0054934263011019386, 0.038595974946266154, 0.013706745757733627, -0.023702824795912555, -0.013290242464476172, 0.024964956890702505, 0.02806980013025222, -0.013100922277728645, -0.032790169545406596, 0.001601329094092967, 0.0029565424576415713, 0.010065497029823994, -0.000711920913235396, -0.011207725998188894, 0.010286369494486424, 0.003350958504432784, 0.031225126641936746, -0.010999473885898873, -0.009970837402111524, -0.004868671361215756, -0.011750442128396309, 0.018098961796818108, -0.01422421932055105, 0.0007063991016188352, -0.0035844527184515037, -0.0120596645102463, -0.02083778780921294, 0.0040987711931758245, 0.01629411450314333, -0.012772767970336161, 0.017404789330948155, -0.006070851427131887, -0.0022686808664497617, 0.0003263792647498894, -0.01703877210379327, 0.035339676302376485, 0.00023921332050450732, 0.038696945215826124, 0.013378591450341143, -0.02491447175592252, 0.0017480517498779423, 0.004559448979365766, -0.0212795327385378, 0.024308648275917537, 0.018111583080513104, -0.01626887193575334, 0.01137811332807134, -0.00495070970523323, 0.009813070424601488, -0.0056543481338744315, 0.01610479524771839, 0.013466940436206115, 0.003909451472089591, 0.013656260622953642, -0.013227136046001191, -0.0075475448790754745, -0.014426160790993573, -0.026731940333292296, 0.00793880607060423, 0.0025794806759309786, 0.0065946360974581016, 0.006238083901751877, -0.028625136612832044, 0.02115331990158784, -0.04902117763007495, 0.002603145815689743, 0.005468183733711947, 0.008961131912544083, 0.006222307297133132, -0.009327150071021554, -0.020938758078772907, 0.012596069998606216, -0.016887316699453318, 0.015637805888358364, -0.022844575642007654, 0.0060172109714281535, 0.004584692012417051, 0.013959171431633548, -0.03725811514930623, -0.016155280382498374, 0.01864167885834811, -0.008582492470371616, 0.007055313883648043, -0.01751838274684829, 0.011352870760681349, 0.007143662869513015, 0.024674665503072422, -0.04331634622406571, -0.013201893478611199, -0.015612563320968373, 0.03256298643889667, 0.020749438823347968, 0.00428178027241456, 0.009762585289821503, 0.0004527896002958923, 0.0013386479286989223, -0.006023521613275651, -0.021052349632027872, -0.015246546093813488, 0.021620309260947865, 0.015448486632933424, 0.007572787446465466, 0.01666013359294339, 0.02427078442483255, 0.03897461345711604, 0.019499928012253014, 0.005641726850179435, 0.008178610460809156, 0.011800927263176294, 0.03478433609450632, 0.0039820243189971115, 0.03677850636889638, -0.027994072428082245, -0.009844623633838976, 0.025999904016337352, -0.00880967650820413, 0.05215126343701466, 0.008639288246999097, -0.024813501486362553, 0.009036859614714059, -0.009977148043959022, -0.01326499989708618, -0.06825605868473304, -0.017695080718578237, 0.00794511671245173, 0.005010661268445754, -0.017947506392478156, 0.013466940436206115, 0.010538796099708932, 0.011611608007751354, -0.02872610688239201, -0.0024974423319135044, 0.0004263637293518327, -0.015233924810118493, 0.006285413715608112, 0.015473729200323416, 0.01282956467828623, -0.008128125326029172, -0.013151407412508628, -0.02167079439572785, 0.011428598462851325, 0.011706267635463823, 0.027691159756757167, 0.00840579449864167, 0.01496887692120099, -0.03523870603281652, -0.004076683946709582, 0.005695367305883168, -0.010665008936658891, 0.0267066977659023, 0.013164028696203624, -0.008437347707879161, -0.005903618952511896, -0.01876789169529807, -0.0074907491024479925, 0.0030512023181846885, -0.002543194485307865, -0.024939714323312514, -0.03993383474322608, -0.004165033398235847, 0.027640674621977182, -0.0036728019371471223, 0.0055344454731106755, 0.02369020351221756, 0.027943585430657086, -0.014426160790993573, 0.0027009609971566087, 0.0012345221053845583, -0.0013015729078448715, 0.010242195001553938, -0.005477649696483193, -0.022188267027222687, -0.023488262973097623, -0.023324186285062675, -0.05709881782132414, 0.0015634651265926556, 0.0491726330344149, -0.008399483856794173, 0.01784653612291819, -0.00035497441882902645, -0.00572060987327316, 0.024750395067887572, -0.013302863748171167, 0.024384375978087514, 0.006973275073969275, 0.00044056270261253405, 0.00980044914090649, 0.0039820243189971115, -0.026858153170242254, 0.009535402183311574, 0.03268919927584663, -0.015221303526423495, 0.01375723089251361, 0.02130477530592779, -0.022327103010512817, 0.0387726729179961, -0.05381727661004448, 0.012002868733618817, -0.017240712642913207, -0.008740259447881652, 0.016281493219448336, -0.041195963112725685, -0.013176649979898621, -0.029862026140232003, 0.007149973511360513, -0.025469808238502346, 0.010128603448298974, -0.0035371229045952687, 0.004300712197957054, -0.023197973448112714, 0.003852655695462109, -0.00866453081438909, -0.0009473872610391206, 0.00829220201406412, -3.364861593597307e-05, -0.04581536412096527, 0.0007497848807357074, 0.01311354356142364, -0.026832910602852263, -0.0017054549174073308, 0.006108715278216875, 0.022125160608747706, 0.005761629045281897, -0.037712481362326085, -0.054473587087474615, 0.020913515511382916, -0.00980044914090649, -0.02418243543896758, 0.012766457328488664, -0.0016881005359113879, 0.01870478527682309, -0.02207467547396772, -0.007446574609515507, -0.0022560595827547654, 0.01298733072447368, 0.008651909530694094, 0.0063706073805493355, 0.0013307596263895498, -0.025633886789182467, -0.024763016351582567, 0.006922789939189292, 0.008550939261134125, 0.009257733010699076, 0.014186355469466063, 0.00023526915479790564, 0.005783716757409434, 0.0029092126437853362, 0.018464980886618167, -0.017884399974003175, 0.010999473885898873, -0.0186795427094331, 0.012368885960773702, -0.010153846015688967, -0.004770856412579536, 0.005903618952511896, -0.042710520881415553, -0.0035150356581290254, 0.03180570941719691, 0.020951379362467902, -0.011516947448716296, 0.0126528657752337, 0.020332934598767925, 0.013908686296853563, 0.04980370094445505, -0.017657216867493247, -0.03473385095972633, 0.0041997419283970865, -0.00655677178071182, -0.013151407412508628, 0.01919701720357311, -0.007061624525495541, 0.009270354294394071, 0.02912998982327706, -0.01735430419616817, 0.022188267027222687, 0.02565912935657246, -0.008727638164186657, 0.0008479944191103802, -0.0051999809895319875, -0.04096878000621575, 0.01691255926684331, -0.0009237222959033414, 0.022137781892442702, -0.0037832384023089843, 0.005282019333549462, -0.01716498494074323, -0.002850838973865333, 0.01409800648360109, -0.0019705023406635406, 0.012842185961981226, 0.005884687026969402, -0.011308696267748863, 0.019348472607913062, -0.03334550975327677, -0.04248333777490562, 0.0036980445045371145, -0.0030985323648715702, -0.02395525233245765, -0.008677152098084085, 0.01082277591416893, -0.009491226759056502, 0.0001172401622834842, -0.002145623117592904, 0.03079600299630688, -0.021784385948982812, -0.0069291005810367895, -0.0015484773522048477, -0.014665965181198497, 0.009352392638411545, 0.007623273046906744, -0.01722809135921821, 0.013883443729463572, 0.01778342970444321, -0.013416455301426131, -0.0568968772822042, 0.009383945847649035, 0.014552373627943533, -0.012659176417081197, 0.02146885199396274, 0.008065018907554192, -0.010399961979063975, -0.0004025015566583192, 0.0023696513688403766, 0.010059186387976496, -0.0027656450760934633, -0.0016881005359113879, 0.006206530692514387, -0.01633197835422832, -0.00743395332582051, 0.009497537400904, 0.009428120340581521, -0.02366496094482757, -0.011340249476986352, 0.02784261516109712, 0.010923746183728896, -0.023513505540487617, -0.019209638487268105, 0.00522522355692198, -0.012974709440778684, 0.002093560322351045, 0.012034421942856307, -0.026479514659392373, -0.03402705907280656, 0.03157852258539663, 0.011788305979481297, 0.012097528361331288, 0.00954802346700657, -0.030114451814131922, 0.02786785772848711, 0.027564946919807206, 0.005619639603713192, -0.010469379039386453, -0.004931777779690736, 0.0155242143351034, -0.01610479524771839, 0.025696993207657448, -0.02973581330328204, -0.00893588934515409, -0.03738432798625619, 0.026858153170242254, 0.0011335516029939436, 0.004417459537797061, -0.040463928658415915, 0.0531104847231247, 0.001312616531077993, -0.0020304536710454182, 0.0023491417828360077, 0.0020904050014272963, 0.013201893478611199, 0.025028063309177485, 0.027994072428082245, -0.03993383474322608, 0.0056164842827894435, -0.00381794716530087, -0.021935841353322768, -0.003344647862585286, -0.041120235410555706, -0.017758187137053218, -0.005313572542786952, -0.024422239829172503, 0.0023791173316116236, -0.012526652938283738, 0.030013481544571955, 0.025179518713517438, 0.027792130026317134, -0.004691972923824518, 0.0016052732452476533, -0.025999904016337352, -0.0013962327683879883, 0.02063584540744783, -0.01861643629095812, 0.023349428852452666, -0.005338815110176944, -0.0006259382434402506, 0.00013074891636807317, -0.03241153103455672, -0.010166467299383962, -0.002787732322559706, -0.0006294879794794683, -0.007194148004292999, -0.0020272983501216694, 0.009857244917533974, 0.011075201588068849, -0.009118897958731532, 0.007459195893210502, 0.0011272409611464455, 0.018578572439873133, 0.037157144879746265, 0.020244585612902953, -0.01735430419616817, 0.0063232775666931, 0.005502892263873186]\n"
     ]
    }
   ],
   "source": [
    "from langchain.embeddings import OpenAIEmbeddings\n",
    "embeddings = OpenAIEmbeddings() # OpenAIEmbeddings 모델 사용\n",
    "\n",
    "text = \"진희는 강아지를 키우고 있습니다. 진희가 키우고 있는 동물은?\"\n",
    "text_embedding = embeddings.embed_query(text)\n",
    "print(text_embedding)"
   ]
  },
  {
   "cell_type": "code",
   "execution_count": 14,
   "id": "7afdfab4-fb63-4e24-9a46-b3587b024b3a",
   "metadata": {},
   "outputs": [],
   "source": [
    "# 가져온 데이터를 임베딩 처리를 통해 벡터로 변환\n",
    "# 사용한 임베딩 모델에 따라서 벡터 값은 각각 다르게 나타남. "
   ]
  },
  {
   "cell_type": "code",
   "execution_count": 16,
   "id": "68c0625b-8a90-41ad-a670-6114aec69c06",
   "metadata": {},
   "outputs": [
    {
     "name": "stdout",
     "output_type": "stream",
     "text": [
      "마을 무덤에서 남자를 죽인 사람은 Injun Joe입니다.\n"
     ]
    }
   ],
   "source": [
    "# langchain.chat_models 모듈에서 ChatOpenAI 클래스를 임포트. GPT 모델을 챗봇 형태로 사용할 수 있게 해주는 래퍼(wrapper)\n",
    "from langchain.chat_models import ChatOpenAI \n",
    "\n",
    "llm = ChatOpenAI(temperature=0,  # 창의성 0으로 설정 \n",
    "                 model_name='gpt-3.5-turbo',  # 모델명\n",
    "                )\n",
    "\n",
    "# RetrievalQA = 문서 검색을 기반으로 하는 질의응답 시스템을 구성\n",
    "from langchain.chains import RetrievalQA\n",
    "retriever = db.as_retriever()\n",
    "\n",
    "qa = RetrievalQA.from_chain_type(\n",
    "    llm=llm, \n",
    "    chain_type=\"stuff\", \n",
    "    retriever=retriever)\n",
    "\n",
    "query = \"마을 무덤에 있던 남자를 죽인 사람은 누구니?\"\n",
    "result = qa({\"query\": query})\n",
    "print(result['result'])"
   ]
  },
  {
   "cell_type": "code",
   "execution_count": 17,
   "id": "ed79ede8-347a-497e-93bf-c8a66839400b",
   "metadata": {},
   "outputs": [],
   "source": [
    "# 온도값의 경우 다양성(degree of diversity) 정도를 나타내며 높을수록 창의적인 결과물을 만들어줌. \n",
    "# 온도(temperature)값이 높을수록 모델이 생성하는 문장이 더 다양해지고, 값이 낮을수록 더 일관성 있는 문장이 생성됨.\n",
    "# 즉 온도(temperature)값이 높은 경우, 다양한 선택지를 고려하여 텍스트를 생성.\n",
    "# 반면에, temperature 값이 낮은 경우, 모델은 가능한 선택지 중에서 가장 확률이 높은 것을 선택. \n",
    "# 그래서 온도 값이 낮을 경우 일관성 있는 텍스트 결과가 만들어지고 일반적이거나 예상 가능한 결과를 만들 수도 있음.\n",
    "# 온도(temperature)값의 범위는 0에서 무한대이지만 일반적으로 0.5 ~ 1.0 사이의 값이을 주로 사용.\n",
    "# 정보성 글일때는 낮은 온도를 사용하고 창의성이 필요한 경우에는 높은 온도로 설정하여 사용하면 됨. (참고로 지정 안했을 때의 기본 값은 0.7)"
   ]
  }
 ],
 "metadata": {
  "kernelspec": {
   "display_name": "llm",
   "language": "python",
   "name": "llm"
  },
  "language_info": {
   "codemirror_mode": {
    "name": "ipython",
    "version": 3
   },
   "file_extension": ".py",
   "mimetype": "text/x-python",
   "name": "python",
   "nbconvert_exporter": "python",
   "pygments_lexer": "ipython3",
   "version": "3.8.19"
  }
 },
 "nbformat": 4,
 "nbformat_minor": 5
}
